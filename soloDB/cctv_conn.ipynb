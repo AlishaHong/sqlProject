{
 "cells": [
  {
   "cell_type": "code",
   "execution_count": null,
   "metadata": {},
   "outputs": [],
   "source": [
    "# csv 파일 읽어오기\n",
    "\n",
    "import pandas as pd\n",
    "\n",
    "cctv = pd.read_csv('01. CCTV_in_Seoul.csv')\n",
    "cctv"
   ]
  },
  {
   "cell_type": "code",
   "execution_count": 3,
   "metadata": {},
   "outputs": [],
   "source": [
    "import pymysql\n",
    "conn = pymysql.connect(host='127.0.0.1', user='root', password='1030', db='soloDB', charset='utf8')"
   ]
  },
  {
   "cell_type": "code",
   "execution_count": 4,
   "metadata": {},
   "outputs": [],
   "source": [
    "cur = conn.cursor()"
   ]
  },
  {
   "cell_type": "code",
   "execution_count": null,
   "metadata": {},
   "outputs": [],
   "source": [
    "import pymysql\n",
    "import pandas as pd\n",
    "\n",
    "filename = '01. CCTV_in_Seoul.csv'\n",
    "df = pd.read_csv(filename)\n",
    "\n",
    "# os.listdir()과 비슷하지만\n",
    "# 필요한 파일의 조건을 구체적으로 명시해서 검색\n",
    "from glob import glob\n",
    "glob('*.csv')\n",
    "conn = pymysql.connect(host='127.0.0.1', user='root', password='1030', db='csvDB', charset='utf8')\n",
    "\n",
    "df.head()\n",
    "\n",
    "cur = conn.cursor()\n",
    "cur.execute(\"drop database if exists csvDB\")\n",
    "cur.execute(\"create database csvDB\")\n",
    "conn.commit()\n",
    "#기관명, 소계, 2013년도이전, 2014년, 2015년, 2016년\n",
    "cur.execute(\"create table cctvTable (기관명 varchar(10), 소계 int, 2013년도이전 int, 2014년 int, 2015년 int, 2016년 int)\")"
   ]
  }
 ],
 "metadata": {
  "kernelspec": {
   "display_name": "PythonEx",
   "language": "python",
   "name": "python3"
  },
  "language_info": {
   "codemirror_mode": {
    "name": "ipython",
    "version": 3
   },
   "file_extension": ".py",
   "mimetype": "text/x-python",
   "name": "python",
   "nbconvert_exporter": "python",
   "pygments_lexer": "ipython3",
   "version": "3.10.14"
  }
 },
 "nbformat": 4,
 "nbformat_minor": 2
}
