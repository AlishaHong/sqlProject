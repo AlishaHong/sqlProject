{
 "cells": [
  {
   "cell_type": "code",
   "execution_count": 1,
   "metadata": {},
   "outputs": [],
   "source": [
    "import pymysql\n",
    "\n",
    "conn = pymysql.connect(host='127.0.0.1', user='root', password='1030', db='zero_pay', charset='utf8')\n",
    "cur = conn.cursor()"
   ]
  },
  {
   "cell_type": "code",
   "execution_count": 4,
   "metadata": {},
   "outputs": [],
   "source": [
    "import pandas as pd"
   ]
  },
  {
   "cell_type": "code",
   "execution_count": 20,
   "metadata": {},
   "outputs": [
    {
     "name": "stderr",
     "output_type": "stream",
     "text": [
      "C:\\Users\\user\\AppData\\Local\\Temp\\ipykernel_31000\\1994455848.py:1: UserWarning: pandas only supports SQLAlchemy connectable (engine/connection) or database string URI or sqlite3 DBAPI2 connection. Other DBAPI2 objects are not tested. Please consider using SQLAlchemy.\n",
      "  restau = pd.read_sql(\"SELECT * FROM restaurant\", conn)\n"
     ]
    },
    {
     "data": {
      "text/plain": [
       "0         숯불돼지갈비마포집\n",
       "1             황푸차이나\n",
       "2            명일원조닭발\n",
       "3             전주감자탕\n",
       "4      양도령숯불민물장어 본점\n",
       "           ...     \n",
       "295    아우네쭈꾸미꼼장어 본점\n",
       "296           대가흑염소\n",
       "297             양자강\n",
       "298          형제기사식당\n",
       "299          학생회관분식\n",
       "Name: place_name, Length: 300, dtype: object"
      ]
     },
     "execution_count": 20,
     "metadata": {},
     "output_type": "execute_result"
    }
   ],
   "source": [
    "restau = pd.read_sql(\"SELECT * FROM restaurant\", conn)\n",
    "restau.head()\n",
    "restau_names = restau['place_name']\n",
    "restau_names\n"
   ]
  },
  {
   "cell_type": "code",
   "execution_count": 29,
   "metadata": {},
   "outputs": [
    {
     "name": "stderr",
     "output_type": "stream",
     "text": [
      "C:\\Users\\user\\AppData\\Local\\Temp\\ipykernel_31000\\913996811.py:4: UserWarning: pandas only supports SQLAlchemy connectable (engine/connection) or database string URI or sqlite3 DBAPI2 connection. Other DBAPI2 objects are not tested. Please consider using SQLAlchemy.\n",
      "  restau = pd.read_sql(\"SELECT * FROM restaurant\", conn)\n"
     ]
    },
    {
     "name": "stdout",
     "output_type": "stream",
     "text": [
      "Saved 61 records to test.csv\n"
     ]
    }
   ],
   "source": [
    "import requests\n",
    "import csv\n",
    "\n",
    "restau = pd.read_sql(\"SELECT * FROM restaurant\", conn)\n",
    "restau.head()\n",
    "restau_names = restau['place_name'].tolist()\n",
    "\n",
    "# 카카오 API 설정\n",
    "KAKAO_API_KEY = '65cfa5251145011a54255c8c67074e68'  # 카카오 REST API 키\n",
    "\n",
    "# 카카오 로컬 API를 사용한 장소 검색 함수\n",
    "def search_places(query, page=1, size=15):\n",
    "    url = \"https://dapi.kakao.com/v2/local/search/keyword.json\"\n",
    "    headers = {\"Authorization\": f\"KakaoAK {KAKAO_API_KEY}\"}\n",
    "    params = {\n",
    "        \"query\": query,  # 검색할 키워드\n",
    "        \"page\": page,    # 페이지 번호\n",
    "        \"size\": size     # 한 페이지에 보여질 문서 수 (최대 15)\n",
    "    }\n",
    "    response = requests.get(url, headers=headers, params=params)\n",
    "    if response.status_code == 200:\n",
    "        return response.json()\n",
    "    else:\n",
    "        print(f\"Error {response.status_code}: {response.text}\")\n",
    "        return None\n",
    "\n",
    "# 모든 검색 결과를 수집하는 함수\n",
    "def get_all_places(query, max_pages=5):\n",
    "    all_places = []\n",
    "    for page in range(1, max_pages + 1):\n",
    "        print(f\"Fetching page {page}...\")\n",
    "        data = search_places(query, page=page)\n",
    "        if not data or 'documents' not in data:\n",
    "            break\n",
    "        places = data['documents']\n",
    "        if not places:\n",
    "            print(\"No more results.\")\n",
    "            break\n",
    "        all_places.extend(places)\n",
    "    return all_places\n",
    "\n",
    "\n",
    "\n",
    "\n",
    "# 수집된 데이터를 CSV 파일로 저장하는 함수\n",
    "def save_to_csv(places, filename='restaurant.csv'):\n",
    "    with open(filename, 'w', newline='', encoding='utf-8') as csvfile:\n",
    "        fieldnames = ['place_name', 'address_name', 'road_address_name', 'x', 'y']\n",
    "        writer = csv.DictWriter(csvfile, fieldnames=fieldnames)\n",
    "        writer.writeheader()\n",
    "        for place in places:\n",
    "            writer.writerow({\n",
    "                'place_name': place.get('place_name'),\n",
    "                'address_name': place.get('address_name'),\n",
    "                'road_address_name': place.get('road_address_name'),\n",
    "                'x': place.get('x'),  # 경도\n",
    "                'y': place.get('y')   # 위도\n",
    "            })\n",
    "    print(f\"Saved {len(places)} records to {filename}\")\n",
    "\n",
    "    \n",
    "\n",
    "\n",
    "    \n",
    "    \n",
    "# 메인 실행 부분\n",
    "if __name__ == \"__main__\":\n",
    "    query = \"강동구 제로페이 식당\"  # 검색 키워드 설정\n",
    "    max_pages = 5            # 크롤링할 최대 페이지 수 설정\n",
    "    places = get_all_places(query, max_pages=max_pages)\n",
    "    print(f\"Total places found: {len(places)}\")\n",
    "    save_to_csv(places)\n",
    "    "
   ]
  }
 ],
 "metadata": {
  "kernelspec": {
   "display_name": "PythonEx",
   "language": "python",
   "name": "python3"
  },
  "language_info": {
   "codemirror_mode": {
    "name": "ipython",
    "version": 3
   },
   "file_extension": ".py",
   "mimetype": "text/x-python",
   "name": "python",
   "nbconvert_exporter": "python",
   "pygments_lexer": "ipython3",
   "version": "3.10.14"
  }
 },
 "nbformat": 4,
 "nbformat_minor": 2
}
