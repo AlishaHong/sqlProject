{
 "cells": [
  {
   "cell_type": "code",
   "execution_count": null,
   "metadata": {},
   "outputs": [],
   "source": [
    "# 파일 3개 읽어와서 데이터베이스와 테이블 생성 후\n",
    "# 만들어진 테이블로 쿼리문 작성해보기 \n",
    "\n",
    "# 파이썬 코드와 쿼리문을 모두 저장한 뒤 압축하여 제출"
   ]
  },
  {
   "cell_type": "code",
   "execution_count": 2,
   "metadata": {},
   "outputs": [],
   "source": [
    "import pandas as pd\n",
    "import pymysql\n",
    "from glob import glob\n",
    "from tqdm import tqdm"
   ]
  },
  {
   "cell_type": "code",
   "execution_count": 3,
   "metadata": {},
   "outputs": [],
   "source": [
    "# 연결하기 \n",
    "\n",
    "conn = pymysql.connect(host='127.0.0.1', user='root', password='1030', db='csvDB', charset='utf8')\n",
    "cur = conn.cursor()"
   ]
  },
  {
   "cell_type": "code",
   "execution_count": 18,
   "metadata": {},
   "outputs": [
    {
     "name": "stdout",
     "output_type": "stream",
     "text": [
      "CardUsageHistory.csv\n"
     ]
    }
   ],
   "source": [
    "# 파일 불러오기 \n",
    "file = glob('*.csv')\n",
    "cardUse = glob('*.csv')[0]\n",
    "print(cardUse)\n",
    "cust_account= glob('*.csv')[1]\n",
    "transaction = glob('*.csv')[2]\n"
   ]
  },
  {
   "cell_type": "code",
   "execution_count": 24,
   "metadata": {},
   "outputs": [],
   "source": [
    "cardUse_data = pd.read_csv(cardUse, encoding='cp949')\n",
    "cust_account_data = pd.read_csv(cust_account, encoding='cp949')\n",
    "transaction_data = pd.read_csv(transaction, encoding='cp949')"
   ]
  },
  {
   "cell_type": "code",
   "execution_count": 34,
   "metadata": {},
   "outputs": [
    {
     "name": "stdout",
     "output_type": "stream",
     "text": [
      "(30, 6)\n",
      "(5, 7)\n",
      "(50, 7)\n"
     ]
    }
   ],
   "source": [
    "print(cardUse_data.shape)\n",
    "print(cust_account_data.shape)\n",
    "print(transaction_data.shape)"
   ]
  },
  {
   "cell_type": "code",
   "execution_count": 37,
   "metadata": {},
   "outputs": [
    {
     "name": "stdout",
     "output_type": "stream",
     "text": [
      "Index(['CardUsageID', 'AccountNumber', 'UsageDate', 'UsageTime', 'Amount',\n",
      "       'MerchantName'],\n",
      "      dtype='object')\n",
      "Index(['CustomerID', 'Name', 'RegistrationDate', 'PhoneNumber', 'SSN',\n",
      "       'AccountNumber', 'Balance'],\n",
      "      dtype='object')\n",
      "Index(['TransactionID', 'AccountNumber', 'TransactionType', 'TransactionDate',\n",
      "       'TransactionTime', 'Amount', 'Description'],\n",
      "      dtype='object')\n"
     ]
    }
   ],
   "source": [
    "print(cardUse_data.columns)\n",
    "print(cust_account_data.columns)\n",
    "print(transaction_data.columns)"
   ]
  },
  {
   "cell_type": "code",
   "execution_count": 58,
   "metadata": {},
   "outputs": [],
   "source": [
    "def create():\n",
    "    cur.execute('drop database if exists bankDB')\n",
    "    cur.execute('create database bankDB')\n",
    "    cur.execute('use bankDB')\n",
    "    cur.execute(\"create table cardUsage (사용번호 INT AUTO_INCREMENT PRIMARY KEY, 계좌번호 varchar(20), 사용일자 date, 사용시간 time, 사용금액 int, 사용처 varchar(20))\")\n",
    "    cur.execute(\"create table cust_account (고객아이디 int AUTO_INCREMENT PRIMARY KEY, 고객명 varchar(10), 가입일자 date, 전화번호 varchar(20), 주민번호 varchar(30), 계좌번호 varchar(20), 잔액 int)\")\n",
    "    cur.execute(\"create table transactionHistory (거래번호 int AUTO_INCREMENT PRIMARY KEY, 계좌번호 varchar(20), 입출금유형 varchar(10), 거래날짜 date, 거래시간 time, 입출금금액 int, 비고 varchar(30))\")\n",
    "    conn.commit()\n",
    "    "
   ]
  },
  {
   "cell_type": "code",
   "execution_count": 59,
   "metadata": {},
   "outputs": [],
   "source": [
    "create()"
   ]
  },
  {
   "cell_type": "code",
   "execution_count": 60,
   "metadata": {},
   "outputs": [],
   "source": [
    "# 데이터 입력하기 \n",
    "\n",
    "def insert_card_usage(row):\n",
    "    for i in tqdm(range(row)):\n",
    "        values = cardUse_data.iloc[i].tolist()\n",
    "        indata = \"INSERT INTO cardUsage VALUES({},'{}','{}','{}',{},'{}')\".format(*values)\n",
    "        cur.execute(indata)\n",
    "    conn.commit()"
   ]
  },
  {
   "cell_type": "code",
   "execution_count": 61,
   "metadata": {},
   "outputs": [
    {
     "name": "stderr",
     "output_type": "stream",
     "text": [
      "100%|██████████| 30/30 [00:00<00:00, 2225.49it/s]\n"
     ]
    }
   ],
   "source": [
    "insert_card_usage(len(cardUse_data))"
   ]
  },
  {
   "cell_type": "code",
   "execution_count": 62,
   "metadata": {},
   "outputs": [],
   "source": [
    "def insert_customer(row):\n",
    "    for i in tqdm(range(row)):\n",
    "        values = cust_account_data.iloc[i].tolist()\n",
    "        indata = \"INSERT INTO cust_account VALUES({},'{}','{}','{}','{}','{}', {})\".format(*values)\n",
    "        cur.execute(indata)\n",
    "    conn.commit()"
   ]
  },
  {
   "cell_type": "code",
   "execution_count": 63,
   "metadata": {},
   "outputs": [
    {
     "name": "stderr",
     "output_type": "stream",
     "text": [
      "100%|██████████| 5/5 [00:00<00:00, 397.81it/s]\n"
     ]
    }
   ],
   "source": [
    "insert_customer(len(cust_account_data))"
   ]
  },
  {
   "cell_type": "code",
   "execution_count": 64,
   "metadata": {},
   "outputs": [],
   "source": [
    "def insert_transaction(row):\n",
    "    for i in tqdm(range(row)):\n",
    "        values = transaction_data.iloc[i].tolist()\n",
    "        indata = \"INSERT INTO transactionHistory VALUES({},'{}','{}','{}','{}',{},'{}')\".format(*values)\n",
    "        cur.execute(indata)\n",
    "    conn.commit()"
   ]
  },
  {
   "cell_type": "code",
   "execution_count": 65,
   "metadata": {},
   "outputs": [
    {
     "name": "stderr",
     "output_type": "stream",
     "text": [
      "100%|██████████| 50/50 [00:00<00:00, 1661.73it/s]\n"
     ]
    }
   ],
   "source": [
    "insert_transaction(len(transaction_data))"
   ]
  }
 ],
 "metadata": {
  "kernelspec": {
   "display_name": "PythonEx",
   "language": "python",
   "name": "python3"
  },
  "language_info": {
   "codemirror_mode": {
    "name": "ipython",
    "version": 3
   },
   "file_extension": ".py",
   "mimetype": "text/x-python",
   "name": "python",
   "nbconvert_exporter": "python",
   "pygments_lexer": "ipython3",
   "version": "3.10.14"
  }
 },
 "nbformat": 4,
 "nbformat_minor": 2
}
